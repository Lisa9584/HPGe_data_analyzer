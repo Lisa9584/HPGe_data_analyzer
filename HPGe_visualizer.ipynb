{
 "cells": [
  {
   "cell_type": "markdown",
   "metadata": {},
   "source": [
    "## HPGe .mpa data Visualiser\n",
    "\n",
    "This notebook implements the functions defined in ```hpge_lib.py``` to read .mpa data produced by Ortec HPGe data analysis software. \n",
    "It produces an interative plot of the data recorded by one of the four ADC channels availables. \n",
    "The code comes with a free-to-use example data file (```test.mpa```).\n",
    "\n",
    "\n",
    "\n",
    "#### To run the code\n",
    "\n",
    "* Run cell 1 to initialise the software\n",
    "* Run cell 2 to load a data file. A file selection window will pop-up.\n",
    "    * If you want to change the ADC to analyse, run cell 3. Default ADC = 1\n",
    "    * If you want to plot in log scale, run cell 4. Default = linear scale\n",
    "* Run cell 5 to plot the data"
   ]
  },
  {
   "cell_type": "markdown",
   "metadata": {},
   "source": [
    "#### Cell 1: Import libraries and initialise auxiliary variables"
   ]
  },
  {
   "cell_type": "code",
   "execution_count": 3,
   "metadata": {},
   "outputs": [],
   "source": [
    "import matplotlib.pyplot as plt\n",
    "import numpy as np\n",
    "import hpge_lib as hpge\n",
    "%matplotlib qt\n",
    "\n",
    "try:\n",
    "    from tkinter import Tk\n",
    "    from tkFileDialog import askopenfilenames\n",
    "except:\n",
    "    from tkinter import Tk\n",
    "    from tkinter import filedialog\n",
    "\n",
    "adc_num = 1\n",
    "log_scale = False"
   ]
  },
  {
   "cell_type": "markdown",
   "metadata": {},
   "source": [
    "### Cell 2: Load .mpa data file"
   ]
  },
  {
   "cell_type": "code",
   "execution_count": 4,
   "metadata": {},
   "outputs": [
    {
     "name": "stdout",
     "output_type": "stream",
     "text": [
      "Please, select an .mpa file to analyse\n",
      "Done!\n"
     ]
    }
   ],
   "source": [
    "root = Tk()\n",
    "root.withdraw() \n",
    "root.wm_attributes('-topmost', 1) \n",
    "\n",
    "print('Please, select an .mpa file to analyse')\n",
    "\n",
    "data_source  =  filedialog.askopenfilenames(parent = root)[0]\n",
    "\n",
    "print('Done!')"
   ]
  },
  {
   "cell_type": "markdown",
   "metadata": {},
   "source": [
    "### Cell 3: Select which ADC to read"
   ]
  },
  {
   "cell_type": "code",
   "execution_count": 5,
   "metadata": {},
   "outputs": [
    {
     "name": "stdout",
     "output_type": "stream",
     "text": [
      "Which ADC data do I have to analyse? (1,2,3,4; 0 to quit)\n",
      "\n",
      "Done! Selected ADC:  1\n"
     ]
    }
   ],
   "source": [
    "adc_num = hpge.configure_ADC()"
   ]
  },
  {
   "cell_type": "markdown",
   "metadata": {},
   "source": [
    "### Cell 4: Select to plot in linear or log scale "
   ]
  },
  {
   "cell_type": "code",
   "execution_count": 6,
   "metadata": {},
   "outputs": [
    {
     "name": "stdout",
     "output_type": "stream",
     "text": [
      "Do you want the counts to be in log scale? (y/n, 0 to quit): \n",
      "\n",
      "Done! Linear scale selected\n"
     ]
    }
   ],
   "source": [
    "log_scale = hpge.configure_scale()"
   ]
  },
  {
   "cell_type": "markdown",
   "metadata": {},
   "source": [
    "### Cell 5: Read and plot the data\n",
    "The calibration is read form the ADC header\n",
    "* adc_header stores the header of the ADC data\n",
    "* adc_data contains the counts read by the ADC\n",
    "* adc_data_errors contains the counts errors (evaluated as the square root of the counts)\n",
    "* channels contains the channel numbers \n",
    "* energy contains the energy of the calibrated channels"
   ]
  },
  {
   "cell_type": "code",
   "execution_count": 7,
   "metadata": {},
   "outputs": [],
   "source": [
    "datas, adcs_flag_pos, data_flag_pos = hpge.open_data(data_source)\n",
    "adc_header, adc_data, adc_data_errors = hpge.read_ADC_data(datas, adc_num, adcs_flag_pos, data_flag_pos)\n",
    "\n",
    "del datas, adcs_flag_pos, data_flag_pos\n",
    "\n",
    "channels, energies = hpge.calibrate(adc_header)\n",
    "\n",
    "fig = plt.figure(tight_layout = True, figsize=(10,8))\n",
    "ax = fig.add_subplot()\n",
    "\n",
    "ax.errorbar(x=energies, y=adc_data, yerr = adc_data_errors, color = 'black', alpha = 0.5, marker = 'none', fmt='none')\n",
    "ax.step(energies, adc_data, color = 'black', where = 'mid')\n",
    "\n",
    "ax.grid(which='both')\n",
    "ax.set_xlabel('Energy [keV]')\n",
    "ax.set_ylabel('Counts')\n",
    "\n",
    "if log_scale:\n",
    "    ax.set_yscale('log')"
   ]
  }
 ],
 "metadata": {
  "kernelspec": {
   "display_name": "astro",
   "language": "python",
   "name": "python3"
  },
  "language_info": {
   "codemirror_mode": {
    "name": "ipython",
    "version": 3
   },
   "file_extension": ".py",
   "mimetype": "text/x-python",
   "name": "python",
   "nbconvert_exporter": "python",
   "pygments_lexer": "ipython3",
   "version": "3.12.0"
  }
 },
 "nbformat": 4,
 "nbformat_minor": 2
}
